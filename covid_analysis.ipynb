{
 "cells": [
  {
   "cell_type": "code",
   "execution_count": 1,
   "metadata": {},
   "outputs": [],
   "source": [
    "state =[\"Andra Pradesh\",\"Arunachal Pradesh\",\"Assam\",\"Bihar\",\"Chhattisgarh\",\"Goa\",\"Gujarat\",\"Haryana\",\"Himachal Pradesh\",\"Jammu and Kashmir\",\"Jharkhand\",\"Karnataka\",\"Kerala\",\"Madya Pradesh\",\"Maharashtra\",\"Manipur\",\"Meghalaya\",\"Mizoram\",\"Nagaland\",\"Orissa\",\"Punjab\",\"Rajasthan\",\"Sikkim\",\"Tamil Nadu\",\"Telagana\",\"Tripura\",\"Uttar Pradesh\",\"Uttarakhand\",\"West Bengal\"]"
   ]
  },
  {
   "cell_type": "code",
   "execution_count": 25,
   "metadata": {},
   "outputs": [],
   "source": [
    "infected_person=[58668,858,25382,28952,5729,4027,50379,27462,1664,15258,6159,71069,13994,24095,327031,2015,490,317,1030,18757,10889,31373,330,180643,47705,3331,53288,4849,47030]"
   ]
  },
  {
   "cell_type": "code",
   "execution_count": 26,
   "metadata": {},
   "outputs": [
    {
     "data": {
      "text/plain": [
       "29"
      ]
     },
     "execution_count": 26,
     "metadata": {},
     "output_type": "execute_result"
    }
   ],
   "source": [
    "len(infected_person)"
   ]
  },
  {
   "cell_type": "code",
   "execution_count": 17,
   "metadata": {},
   "outputs": [],
   "source": [
    "death=[884,3,70,217,30,29,2252,378,11,282,67,1616,50,780,12854,1,4,1,1,114,277,594,1,3232,447,10,1289,60,1255]"
   ]
  },
  {
   "cell_type": "code",
   "execution_count": 27,
   "metadata": {},
   "outputs": [
    {
     "data": {
      "text/plain": [
       "29"
      ]
     },
     "execution_count": 27,
     "metadata": {},
     "output_type": "execute_result"
    }
   ],
   "source": [
    "len(death)"
   ]
  },
  {
   "cell_type": "code",
   "execution_count": 3,
   "metadata": {},
   "outputs": [],
   "source": [
    "recovered=(25574,303,18033,18515,4114,2449,36423,20952,1077,8455,2904,25459,5890,16257,182217,1400,70,168,485,13310,7389,22744,108,126670,37385,1926,31855,3297,28035)"
   ]
  },
  {
   "cell_type": "code",
   "execution_count": 28,
   "metadata": {},
   "outputs": [
    {
     "data": {
      "text/plain": [
       "29"
      ]
     },
     "execution_count": 28,
     "metadata": {},
     "output_type": "execute_result"
    }
   ],
   "source": [
    "len(recovered)"
   ]
  },
  {
   "cell_type": "code",
   "execution_count": 4,
   "metadata": {},
   "outputs": [],
   "source": [
    "my_dict = {} \n",
    "for key in state: \n",
    "    for value in infected_person: \n",
    "        my_dict[key] = value \n",
    "        infected_person.remove(value) \n",
    "        break"
   ]
  },
  {
   "cell_type": "code",
   "execution_count": 5,
   "metadata": {},
   "outputs": [
    {
     "data": {
      "text/plain": [
       "{'Andra Pradesh': 58668,\n",
       " 'Arunachal Pradesh': 858,\n",
       " 'Assam': 25382,\n",
       " 'Bihar': 28952,\n",
       " 'Chhattisgarh': 5729,\n",
       " 'Goa': 4027,\n",
       " 'Gujarat': 50379,\n",
       " 'Haryana': 27462,\n",
       " 'Himachal Pradesh': 1664,\n",
       " 'Jammu and Kashmir': 15258,\n",
       " 'Jharkhand': 6159,\n",
       " 'Karnataka': 71069,\n",
       " 'Kerala': 13994,\n",
       " 'Madya Pradesh': 24095,\n",
       " 'Maharashtra': 327031,\n",
       " 'Manipur': 2015,\n",
       " 'Meghalaya': 490,\n",
       " 'Mizoram': 317,\n",
       " 'Nagaland': 1030,\n",
       " 'Orissa': 18757,\n",
       " 'Punjab': 10889,\n",
       " 'Rajasthan': 31373,\n",
       " 'Sikkim': 330,\n",
       " 'Tamil Nadu': 180643,\n",
       " 'Telagana': 47705,\n",
       " 'Tripura': 3331,\n",
       " 'Uttar Pradesh': 53288,\n",
       " 'Uttarakhand': 4849,\n",
       " 'West Bengal': 47030}"
      ]
     },
     "execution_count": 5,
     "metadata": {},
     "output_type": "execute_result"
    }
   ],
   "source": [
    "my_dict"
   ]
  },
  {
   "cell_type": "code",
   "execution_count": 6,
   "metadata": {},
   "outputs": [],
   "source": [
    "#Function to calculate INFECTION FERTILITY RATE\n",
    "def ifr(infected,deaths):\n",
    "    ifr=(deaths/infected)*100\n",
    "    print(\"The IFR={}%\".format(ifr))"
   ]
  },
  {
   "cell_type": "code",
   "execution_count": 22,
   "metadata": {},
   "outputs": [
    {
     "name": "stdout",
     "output_type": "stream",
     "text": [
      "The IFR=2892.986425339366%\n",
      "The IFR=10100.0%\n",
      "The IFR=25761.42857142857%\n",
      "The IFR=8532.258064516129%\n",
      "The IFR=13713.333333333332%\n",
      "The IFR=8444.827586206897%\n",
      "The IFR=1617.362344582593%\n",
      "The IFR=5542.857142857143%\n",
      "The IFR=9790.90909090909%\n",
      "The IFR=2998.22695035461%\n",
      "The IFR=4334.328358208955%\n",
      "The IFR=1575.4331683168316%\n",
      "The IFR=11780.0%\n",
      "The IFR=2084.230769230769%\n",
      "The IFR=1417.5898552979618%\n",
      "The IFR=140000.0%\n",
      "The IFR=1750.0%\n",
      "The IFR=16800.0%\n",
      "The IFR=48500.0%\n",
      "The IFR=11675.438596491227%\n",
      "The IFR=2667.5090252707582%\n",
      "The IFR=3828.956228956229%\n",
      "The IFR=10800.0%\n",
      "The IFR=3919.2450495049507%\n",
      "The IFR=8363.534675615214%\n",
      "The IFR=19260.0%\n",
      "The IFR=2471.2955779674166%\n",
      "The IFR=5495.0%\n",
      "The IFR=2233.864541832669%\n"
     ]
    }
   ],
   "source": [
    "for i in range(0,29):\n",
    "    ifr(death[i],recovered[i])"
   ]
  },
  {
   "cell_type": "code",
   "execution_count": 29,
   "metadata": {},
   "outputs": [],
   "source": [
    "# add two list  \n",
    "infected_data = [] \n",
    "for i in range(0, len(recovered)): \n",
    "    infected_data.append(infected_person[i] + death[i]+recovered[i]) "
   ]
  },
  {
   "cell_type": "code",
   "execution_count": 30,
   "metadata": {},
   "outputs": [
    {
     "name": "stdout",
     "output_type": "stream",
     "text": [
      "Resultant list is : [85126, 1164, 43485, 47684, 9873, 6505, 89054, 48792, 2752, 23995, 9130, 98144, 19934, 41132, 522102, 3416, 564, 486, 1516, 32181, 18555, 54711, 439, 310545, 85537, 5267, 86432, 8206, 76320]\n"
     ]
    }
   ],
   "source": [
    "print (\"Resultant list is : \" + str(infected_data )) "
   ]
  }
 ],
 "metadata": {
  "kernelspec": {
   "display_name": "Python 3",
   "language": "python",
   "name": "python3"
  },
  "language_info": {
   "codemirror_mode": {
    "name": "ipython",
    "version": 3
   },
   "file_extension": ".py",
   "mimetype": "text/x-python",
   "name": "python",
   "nbconvert_exporter": "python",
   "pygments_lexer": "ipython3",
   "version": "3.6.4"
  }
 },
 "nbformat": 4,
 "nbformat_minor": 2
}
